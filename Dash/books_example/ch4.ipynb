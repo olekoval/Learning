{
 "cells": [
  {
   "cell_type": "markdown",
   "id": "c480cf24-2937-4610-9f4f-55318fdeb160",
   "metadata": {},
   "source": [
    "# Глава 4. Подготовка и преобразование данных. Введение в Plotly Express\n",
    "стр.83 "
   ]
  },
  {
   "cell_type": "code",
   "execution_count": 2,
   "id": "7ecae3ca-2699-4ad2-9905-7c16215005b9",
   "metadata": {},
   "outputs": [],
   "source": [
    "import pandas as pd"
   ]
  },
  {
   "cell_type": "markdown",
   "id": "421cd80e-b930-4309-829f-cd153380696d",
   "metadata": {},
   "source": [
    "## PovStatsSeries.csv"
   ]
  },
  {
   "cell_type": "code",
   "execution_count": 9,
   "id": "066801d3-72e5-4b2a-8321-d98d2966797d",
   "metadata": {},
   "outputs": [],
   "source": [
    "series = pd.read_csv('data/PovStatsSeries.csv')\n",
    "series.to_excel(\"series.xlsx\", index=False)"
   ]
  },
  {
   "cell_type": "code",
   "execution_count": 10,
   "id": "6f8d3b73-78ac-4b6d-a80a-a8c23a18901c",
   "metadata": {},
   "outputs": [
    {
     "data": {
      "text/plain": [
       "Topic\n",
       "Poverty: Poverty rates           45\n",
       "Poverty: Shared prosperity       10\n",
       "Poverty: Income distribution      8\n",
       "Health: Population: Structure     1\n",
       "Name: count, dtype: int64"
      ]
     },
     "execution_count": 10,
     "metadata": {},
     "output_type": "execute_result"
    }
   ],
   "source": [
    "series['Topic'].value_counts()"
   ]
  },
  {
   "cell_type": "code",
   "execution_count": 11,
   "id": "4097922b-37e5-420a-ba34-5654a3f92185",
   "metadata": {},
   "outputs": [
    {
     "data": {
      "text/plain": [
       "Unit of measure\n",
       "%             39\n",
       "NaN           22\n",
       "2011 PPP $     3\n",
       "Name: count, dtype: int64"
      ]
     },
     "execution_count": 11,
     "metadata": {},
     "output_type": "execute_result"
    }
   ],
   "source": [
    "series['Unit of measure'].value_counts(dropna=False)"
   ]
  },
  {
   "cell_type": "code",
   "execution_count": 21,
   "id": "517c6ec1-5b5d-4029-b366-3b591e707d8c",
   "metadata": {},
   "outputs": [],
   "source": [
    "topic_gr = (series.groupby('Topic', as_index=False).agg(\n",
    "           #     count0=('Topic', 'count'),\n",
    "                count=('Limitations and exceptions', 'count'),\n",
    "                nunique=('Limitations and exceptions', 'nunique')\n",
    "            ))"
   ]
  },
  {
   "cell_type": "code",
   "execution_count": 22,
   "id": "dcd8d1f0-d503-4ac1-a234-ef2573675300",
   "metadata": {},
   "outputs": [
    {
     "data": {
      "text/html": [
       "<div>\n",
       "<style scoped>\n",
       "    .dataframe tbody tr th:only-of-type {\n",
       "        vertical-align: middle;\n",
       "    }\n",
       "\n",
       "    .dataframe tbody tr th {\n",
       "        vertical-align: top;\n",
       "    }\n",
       "\n",
       "    .dataframe thead th {\n",
       "        text-align: right;\n",
       "    }\n",
       "</style>\n",
       "<table border=\"1\" class=\"dataframe\">\n",
       "  <thead>\n",
       "    <tr style=\"text-align: right;\">\n",
       "      <th></th>\n",
       "      <th>Topic</th>\n",
       "      <th>count</th>\n",
       "      <th>nunique</th>\n",
       "    </tr>\n",
       "  </thead>\n",
       "  <tbody>\n",
       "    <tr>\n",
       "      <th>0</th>\n",
       "      <td>Health: Population: Structure</td>\n",
       "      <td>1</td>\n",
       "      <td>1</td>\n",
       "    </tr>\n",
       "    <tr>\n",
       "      <th>1</th>\n",
       "      <td>Poverty: Income distribution</td>\n",
       "      <td>8</td>\n",
       "      <td>2</td>\n",
       "    </tr>\n",
       "    <tr>\n",
       "      <th>2</th>\n",
       "      <td>Poverty: Poverty rates</td>\n",
       "      <td>25</td>\n",
       "      <td>3</td>\n",
       "    </tr>\n",
       "    <tr>\n",
       "      <th>3</th>\n",
       "      <td>Poverty: Shared prosperity</td>\n",
       "      <td>4</td>\n",
       "      <td>2</td>\n",
       "    </tr>\n",
       "  </tbody>\n",
       "</table>\n",
       "</div>"
      ],
      "text/plain": [
       "                           Topic  count  nunique\n",
       "0  Health: Population: Structure      1        1\n",
       "1   Poverty: Income distribution      8        2\n",
       "2         Poverty: Poverty rates     25        3\n",
       "3     Poverty: Shared prosperity      4        2"
      ]
     },
     "execution_count": 22,
     "metadata": {},
     "output_type": "execute_result"
    }
   ],
   "source": [
    "topic_gr"
   ]
  },
  {
   "cell_type": "code",
   "execution_count": null,
   "id": "08a58105-a945-4e0e-b54a-8881742fc91a",
   "metadata": {},
   "outputs": [],
   "source": []
  }
 ],
 "metadata": {
  "kernelspec": {
   "display_name": "Python 3 (ipykernel)",
   "language": "python",
   "name": "python3"
  },
  "language_info": {
   "codemirror_mode": {
    "name": "ipython",
    "version": 3
   },
   "file_extension": ".py",
   "mimetype": "text/x-python",
   "name": "python",
   "nbconvert_exporter": "python",
   "pygments_lexer": "ipython3",
   "version": "3.12.6"
  }
 },
 "nbformat": 4,
 "nbformat_minor": 5
}
